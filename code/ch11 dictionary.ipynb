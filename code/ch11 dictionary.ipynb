{
 "cells": [
  {
   "cell_type": "code",
   "execution_count": 14,
   "metadata": {},
   "outputs": [
    {
     "name": "stdout",
     "output_type": "stream",
     "text": [
      "{'a': 1}\n",
      "<class 'int'>\n",
      "1\n",
      "\n",
      "5\n",
      "{'a': 1}\n"
     ]
    }
   ],
   "source": [
    "a_dic = {}\n",
    "a_dic['a'] = 1\n",
    "print(a_dic)  \n",
    "print(type(a_dic.get('a',0)))\n",
    "print(a_dic.get('a',0))\n",
    "print()\n",
    "\n",
    "print(a_dic.get('b',5))\n",
    "print(a_dic)"
   ]
  },
  {
   "cell_type": "code",
   "execution_count": 23,
   "metadata": {},
   "outputs": [
    {
     "name": "stdout",
     "output_type": "stream",
     "text": [
      "{'h': 2, 'a': 2}\n"
     ]
    }
   ],
   "source": [
    "def count_letters(string):\n",
    "    \"\"\"A fuction used to count letters in a string.\"\"\"\n",
    "    d = dict()\n",
    "    for char in string:\n",
    "        d[char] = d.get(char, 0) + 1 \n",
    "    return d\n",
    "\n",
    "# Problem with my code:\n",
    "# def count_letters(string):\n",
    "#     \"\"\"A fuction used to count letters in a string.\"\"\"\n",
    "#     d = dict()\n",
    "#     for char in string:\n",
    "#         d[char] = d.get(d[char], 0) + 1 \n",
    "#     return d\n",
    "# function get() takes a KEY and a default value, but I passed a value (d[char]) instead a key (char) to it\n",
    "a = count_letters('haha')\n",
    "print(a)"
   ]
  }
 ],
 "metadata": {
  "kernelspec": {
   "display_name": "Python 3",
   "language": "python",
   "name": "python3"
  },
  "language_info": {
   "codemirror_mode": {
    "name": "ipython",
    "version": 3
   },
   "file_extension": ".py",
   "mimetype": "text/x-python",
   "name": "python",
   "nbconvert_exporter": "python",
   "pygments_lexer": "ipython3",
   "version": "3.7.1"
  }
 },
 "nbformat": 4,
 "nbformat_minor": 2
}
