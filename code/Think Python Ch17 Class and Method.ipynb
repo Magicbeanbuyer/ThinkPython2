{
 "cells": [
  {
   "cell_type": "code",
   "execution_count": 11,
   "metadata": {},
   "outputs": [],
   "source": [
    "class Time:\n",
    "    \"\"\"A class represents time.\"\"\"\n",
    "    \n",
    "    def print_time(self):\n",
    "        print('%.2d:%.2d:%.2d' % (self.hour,self.minute,self.second))\n",
    "    \n",
    "    def time_to_int(self):\n",
    "        \"\"\"A method convert a time to seconds.\"\"\"\n",
    "        sec = self.hour * 3600 + self.minute * 60 + self.second\n",
    "        return sec\n",
    "    def increment(self, sec):\n",
    "        sec += self.time_to_int()\n",
    "        return int_to_time(sec)\n",
    "    \n",
    "def int_to_time(sec):\n",
    "    time = Time()\n",
    "    time.minute, time.second = divmod(sec,60)\n",
    "    time.hour, time.minute = divmod(time.minute, 60)\n",
    "    return time"
   ]
  },
  {
   "cell_type": "code",
   "execution_count": 12,
   "metadata": {},
   "outputs": [
    {
     "name": "stdout",
     "output_type": "stream",
     "text": [
      "05:03:00\n"
     ]
    }
   ],
   "source": [
    "t1 = Time()\n",
    "t1.hour=5\n",
    "t1.minute=1\n",
    "t1.second=0\n",
    "t2 = Time.increment(sec=120, self=t1)\n",
    "t2.print_time()\n",
    "\n"
   ]
  }
 ],
 "metadata": {
  "kernelspec": {
   "display_name": "Python 3",
   "language": "python",
   "name": "python3"
  },
  "language_info": {
   "codemirror_mode": {
    "name": "ipython",
    "version": 3
   },
   "file_extension": ".py",
   "mimetype": "text/x-python",
   "name": "python",
   "nbconvert_exporter": "python",
   "pygments_lexer": "ipython3",
   "version": "3.7.1"
  }
 },
 "nbformat": 4,
 "nbformat_minor": 2
}
