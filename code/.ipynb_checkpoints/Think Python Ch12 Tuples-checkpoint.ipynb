{
 "cells": [
  {
   "cell_type": "code",
   "execution_count": 2,
   "metadata": {},
   "outputs": [
    {
     "data": {
      "text/plain": [
       "str"
      ]
     },
     "execution_count": 2,
     "metadata": {},
     "output_type": "execute_result"
    }
   ],
   "source": [
    "t = 'a'\n",
    "type(t)"
   ]
  },
  {
   "cell_type": "code",
   "execution_count": 5,
   "metadata": {},
   "outputs": [
    {
     "data": {
      "text/plain": [
       "tuple"
      ]
     },
     "execution_count": 5,
     "metadata": {},
     "output_type": "execute_result"
    }
   ],
   "source": [
    "t1 = 'a', #add a COMMA\n",
    "type(t1)"
   ]
  },
  {
   "cell_type": "code",
   "execution_count": 7,
   "metadata": {},
   "outputs": [
    {
     "data": {
      "text/plain": [
       "str"
      ]
     },
     "execution_count": 7,
     "metadata": {},
     "output_type": "execute_result"
    }
   ],
   "source": [
    "t2 = ('a')\n",
    "type(t2)"
   ]
  },
  {
   "cell_type": "code",
   "execution_count": 9,
   "metadata": {},
   "outputs": [
    {
     "data": {
      "text/plain": [
       "tuple"
      ]
     },
     "execution_count": 9,
     "metadata": {},
     "output_type": "execute_result"
    }
   ],
   "source": [
    "t3 = ('a',) #comma!!!\n",
    "type(t3)"
   ]
  },
  {
   "cell_type": "markdown",
   "metadata": {},
   "source": [
    "#### tuple assignment"
   ]
  },
  {
   "cell_type": "code",
   "execution_count": 11,
   "metadata": {},
   "outputs": [
    {
     "name": "stdout",
     "output_type": "stream",
     "text": [
      "[4, 5]\n",
      "[1, 2, 3]\n",
      "[7, 8] [9, 0]\n"
     ]
    }
   ],
   "source": [
    "a = [1,2,3]\n",
    "b = [4,5]\n",
    "\n",
    "a,b = b,a \n",
    "# a tuple of variables = a tuple of expressions\n",
    "print(a)\n",
    "print(b)\n",
    "\n",
    "c,d = [7,8],[9,0]\n",
    "print(c,d)"
   ]
  },
  {
   "cell_type": "code",
   "execution_count": 12,
   "metadata": {},
   "outputs": [
    {
     "data": {
      "text/plain": [
       "(1, 34)"
      ]
     },
     "execution_count": 12,
     "metadata": {},
     "output_type": "execute_result"
    }
   ],
   "source": [
    "def extrems(t):\n",
    "    return min(t), max(t)\n",
    "\n",
    "a = (1,2,34)\n",
    "b = extrems(a)\n",
    "b"
   ]
  },
  {
   "cell_type": "markdown",
   "metadata": {},
   "source": [
    "#### Gather and Scatter"
   ]
  },
  {
   "cell_type": "code",
   "execution_count": 19,
   "metadata": {},
   "outputs": [
    {
     "data": {
      "text/plain": [
       "(0, 1)"
      ]
     },
     "execution_count": 19,
     "metadata": {},
     "output_type": "execute_result"
    }
   ],
   "source": [
    "def sum_three_num(a,b,c):\n",
    "    return a+b+c\n",
    "\n",
    "e = sum_three_num(*a)\n",
    "e\n",
    "\n",
    "f = divmod(*b)\n",
    "f"
   ]
  },
  {
   "cell_type": "code",
   "execution_count": 25,
   "metadata": {},
   "outputs": [
    {
     "data": {
      "text/plain": [
       "6"
      ]
     },
     "execution_count": 25,
     "metadata": {},
     "output_type": "execute_result"
    }
   ],
   "source": [
    "def sum_all(*args):\n",
    "#     a = list(args)\n",
    "    return sum(args)\n",
    "    \n",
    "g = sum_all(1,2,3)\n",
    "g\n",
    "\n",
    "# sum(1,2,3) TypeError: 'int' object is not iterable"
   ]
  },
  {
   "cell_type": "markdown",
   "metadata": {},
   "source": [
    "#### zip\n",
    "---\n",
    "* not indexable"
   ]
  },
  {
   "cell_type": "code",
   "execution_count": 4,
   "metadata": {},
   "outputs": [
    {
     "name": "stdout",
     "output_type": "stream",
     "text": [
      "<zip object at 0x000001D529643B08>\n"
     ]
    }
   ],
   "source": [
    "s = 'abc'\n",
    "t = [1,2,3]\n",
    "z = zip(s,t)\n",
    "print(z)"
   ]
  },
  {
   "cell_type": "code",
   "execution_count": 5,
   "metadata": {},
   "outputs": [
    {
     "name": "stdout",
     "output_type": "stream",
     "text": [
      "('a', 1)\n",
      "('b', 2)\n",
      "('c', 3)\n"
     ]
    }
   ],
   "source": [
    "for i in z:\n",
    "    print(i)"
   ]
  },
  {
   "cell_type": "markdown",
   "metadata": {},
   "source": [
    "#### initialize a dictionary with a list of tuple"
   ]
  },
  {
   "cell_type": "code",
   "execution_count": 8,
   "metadata": {},
   "outputs": [
    {
     "data": {
      "text/plain": [
       "{'lisa': 12, 'lee': 23, 'Tom': 44}"
      ]
     },
     "execution_count": 8,
     "metadata": {},
     "output_type": "execute_result"
    }
   ],
   "source": [
    "a = ['lisa', 'lee', 'Tom']\n",
    "b = [12,23,44]\n",
    "dict1 = dict(zip(a,b)) # no need to convert the zip object to a list object\n",
    "dict1"
   ]
  },
  {
   "cell_type": "code",
   "execution_count": 10,
   "metadata": {},
   "outputs": [
    {
     "data": {
      "text/plain": [
       "{'lisa': 12, 'lee': 23, 'Tom': 44, 'jane': 18}"
      ]
     },
     "execution_count": 10,
     "metadata": {},
     "output_type": "execute_result"
    }
   ],
   "source": [
    "c=['jane']\n",
    "e=[18]\n",
    "dict1.update(zip(c,e))\n",
    "dict1"
   ]
  },
  {
   "cell_type": "code",
   "execution_count": 12,
   "metadata": {},
   "outputs": [
    {
     "data": {
      "text/plain": [
       "{'lisa': 12, 'lee': 23, 'Tom': 44, 'jane': 80}"
      ]
     },
     "execution_count": 12,
     "metadata": {},
     "output_type": "execute_result"
    }
   ],
   "source": [
    "f = ['jane']\n",
    "g=[80]\n",
    "dict1.update(zip(f,g))\n",
    "dict1"
   ]
  },
  {
   "cell_type": "markdown",
   "metadata": {},
   "source": [
    "* dictionay keys have to be immutable, therefore they can be int, str, tuple etc., but not list\n",
    "* if the tuple contains mutable objects, it cannot be used as a key"
   ]
  },
  {
   "cell_type": "code",
   "execution_count": 20,
   "metadata": {},
   "outputs": [
    {
     "data": {
      "text/plain": [
       "{('lisa', 'zhang'): 123, ('lee', 'schmidt'): 234, ('Tom', 'bay'): 345}"
      ]
     },
     "execution_count": 20,
     "metadata": {},
     "output_type": "execute_result"
    }
   ],
   "source": [
    "f_name = a\n",
    "l_name = ['zhang','schmidt','bay']\n",
    "phones = [123,234,345]\n",
    "\n",
    "names = list(zip(f_name,l_name))\n",
    "# names = tuple(zip(f_name,l_name)) \n",
    "# both work\n",
    "\n",
    "# names = zip(f_name,l_name)\n",
    "# TypeError: 'zip' object is not subscriptable\n",
    "# It basically means that the object implements the __getitem__() method. \n",
    "# In other words, it describes objects that are \"containers\", meaning they contain other objects. \n",
    "# This includes lists, tuples, and dictionaries.\n",
    "\n",
    "# phone_book={}\n",
    "# for i in range(3):\n",
    "#     phone_book[(f_name,l_name)[i]]=phones[i]\n",
    "# TypeError: unhashable type: 'list'\n",
    "# The problem is that you can't use a list as the key in a dict\n",
    "    \n",
    "phone_book={}\n",
    "for i in range(3):\n",
    "    phone_book[names[i]]=phones[i]\n",
    "\n",
    "phone_book"
   ]
  },
  {
   "cell_type": "markdown",
   "metadata": {},
   "source": [
    "# Exercises\n",
    "---\n",
    "### Exercise 12.1. \n",
    "Write a function called most_frequent that takes a string and prints the letters\n",
    "in decreasing order of frequency. Find text samples from several different languages and see\n",
    "how letter frequency varies between languages."
   ]
  },
  {
   "cell_type": "code",
   "execution_count": 34,
   "metadata": {},
   "outputs": [],
   "source": [
    "def count_letters(text):\n",
    "    letter_hist = {}\n",
    "    for letter in text:\n",
    "        if letter != ' ':\n",
    "            letter_hist[letter] = letter_hist.get(letter,0) + 1\n",
    "        else:\n",
    "            pass\n",
    "        \n",
    "    return letter_hist"
   ]
  },
  {
   "cell_type": "code",
   "execution_count": 35,
   "metadata": {},
   "outputs": [
    {
     "data": {
      "text/plain": [
       "{'i': 1,\n",
       " 'c': 2,\n",
       " 'o': 2,\n",
       " 'u': 1,\n",
       " 'l': 3,\n",
       " 'd': 1,\n",
       " 's': 1,\n",
       " 'e': 3,\n",
       " 'a': 1,\n",
       " 'r': 1,\n",
       " 'y': 1,\n",
       " 'n': 1,\n",
       " 'w': 1}"
      ]
     },
     "execution_count": 35,
     "metadata": {},
     "output_type": "execute_result"
    }
   ],
   "source": [
    "a = 'i could see clearly now'\n",
    "b = count_letters(a)\n",
    "b"
   ]
  },
  {
   "cell_type": "code",
   "execution_count": null,
   "metadata": {},
   "outputs": [],
   "source": []
  }
 ],
 "metadata": {
  "kernelspec": {
   "display_name": "Python 3",
   "language": "python",
   "name": "python3"
  },
  "language_info": {
   "codemirror_mode": {
    "name": "ipython",
    "version": 3
   },
   "file_extension": ".py",
   "mimetype": "text/x-python",
   "name": "python",
   "nbconvert_exporter": "python",
   "pygments_lexer": "ipython3",
   "version": "3.7.1"
  }
 },
 "nbformat": 4,
 "nbformat_minor": 2
}
