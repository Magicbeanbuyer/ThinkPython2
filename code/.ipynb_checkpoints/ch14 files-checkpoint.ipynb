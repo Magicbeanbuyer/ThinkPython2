{
 "cells": [
  {
   "cell_type": "code",
   "execution_count": 1,
   "metadata": {},
   "outputs": [],
   "source": [
    "import os"
   ]
  },
  {
   "cell_type": "code",
   "execution_count": 3,
   "metadata": {},
   "outputs": [
    {
     "data": {
      "text/plain": [
       "'C:\\\\Users\\\\zheng\\\\Documents\\\\python\\\\ThinkPython2\\\\code'"
      ]
     },
     "execution_count": 3,
     "metadata": {},
     "output_type": "execute_result"
    }
   ],
   "source": [
    "os.getcwd()"
   ]
  },
  {
   "cell_type": "code",
   "execution_count": 5,
   "metadata": {},
   "outputs": [
    {
     "name": "stderr",
     "output_type": "stream",
     "text": [
      "C:\\ProgramData\\Anaconda3\\lib\\site-packages\\ipykernel_launcher.py:1: DeprecationWarning: The Windows bytes API has been deprecated, use Unicode filenames instead\n",
      "  \"\"\"Entry point for launching an IPython kernel.\n"
     ]
    },
    {
     "data": {
      "text/plain": [
       "b'C:\\\\Users\\\\zheng\\\\Documents\\\\python\\\\ThinkPython2\\\\code'"
      ]
     },
     "execution_count": 5,
     "metadata": {},
     "output_type": "execute_result"
    }
   ],
   "source": [
    "os.getcwdb()"
   ]
  },
  {
   "cell_type": "code",
   "execution_count": 6,
   "metadata": {},
   "outputs": [
    {
     "data": {
      "text/plain": [
       "'C:\\\\Users\\\\zheng\\\\Documents\\\\python\\\\ThinkPython2\\\\code\\\\ch11 dictionary.ipynb'"
      ]
     },
     "execution_count": 6,
     "metadata": {},
     "output_type": "execute_result"
    }
   ],
   "source": [
    "os.path.abspath('ch11 dictionary.ipynb')"
   ]
  },
  {
   "cell_type": "code",
   "execution_count": 7,
   "metadata": {},
   "outputs": [
    {
     "data": {
      "text/plain": [
       "True"
      ]
     },
     "execution_count": 7,
     "metadata": {},
     "output_type": "execute_result"
    }
   ],
   "source": [
    "os.path.exists('ch11 dictionary.ipynb')"
   ]
  },
  {
   "cell_type": "code",
   "execution_count": 8,
   "metadata": {},
   "outputs": [
    {
     "data": {
      "text/plain": [
       "True"
      ]
     },
     "execution_count": 8,
     "metadata": {},
     "output_type": "execute_result"
    }
   ],
   "source": [
    "os.path.exists('.ipynb_checkpoints')"
   ]
  },
  {
   "cell_type": "code",
   "execution_count": 10,
   "metadata": {},
   "outputs": [
    {
     "data": {
      "text/plain": [
       "True"
      ]
     },
     "execution_count": 10,
     "metadata": {},
     "output_type": "execute_result"
    }
   ],
   "source": [
    "os.path.isdir('.ipynb_checkpoints')"
   ]
  },
  {
   "cell_type": "code",
   "execution_count": 11,
   "metadata": {},
   "outputs": [
    {
     "data": {
      "text/plain": [
       "['.ipynb_checkpoints',\n",
       " '158-0.txt',\n",
       " 'ackermann.py',\n",
       " 'ackermann_memo.py',\n",
       " 'anagram_db.py',\n",
       " 'anagram_sets.py',\n",
       " 'analyze_book1.py',\n",
       " 'analyze_book2.py',\n",
       " 'analyze_book3.py',\n",
       " 'BadKangaroo.py',\n",
       " 'birthday.py',\n",
       " 'c06d',\n",
       " 'Card.py',\n",
       " 'Card_test.py',\n",
       " 'cartalk1.py',\n",
       " 'cartalk2.py',\n",
       " 'cartalk3.py',\n",
       " 'ch11 dictionary.ipynb',\n",
       " 'ch14 files.ipynb',\n",
       " 'Circle.py',\n",
       " 'double.py',\n",
       " 'do_four.py',\n",
       " 'draw.py',\n",
       " 'find_duplicates.py',\n",
       " 'find_duplicates_copy.py',\n",
       " 'flower.py',\n",
       " 'GoodKangaroo.py',\n",
       " 'grid.py',\n",
       " 'has_duplicates.py',\n",
       " 'homophone.py',\n",
       " 'inlist.py',\n",
       " 'interlock.py',\n",
       " 'invert_dict.py',\n",
       " 'koch.py',\n",
       " 'letters.py',\n",
       " 'list_exercises.py',\n",
       " 'Map.py',\n",
       " 'markov.py',\n",
       " 'markov2.py',\n",
       " 'metathesis.py',\n",
       " 'most_frequent.py',\n",
       " 'pace_calc.py',\n",
       " 'palindrome_soln.py',\n",
       " 'pi.py',\n",
       " 'pie.py',\n",
       " 'Point1.py',\n",
       " 'Point1_soln.py',\n",
       " 'Point2_soln.py',\n",
       " 'PokerHand.py',\n",
       " 'PokerHandSoln.py',\n",
       " 'polygon.py',\n",
       " 'pronounce.py',\n",
       " 'reducible.py',\n",
       " 'reverse_pair.py',\n",
       " 'rotate.py',\n",
       " 'rotate_pairs.py',\n",
       " 'run_all_solutions.py',\n",
       " 'sed.py',\n",
       " 'see NY.text',\n",
       " 'spiral.py',\n",
       " 'structshape.py',\n",
       " 'Time1.py',\n",
       " 'Time1_soln.py',\n",
       " 'Time2.py',\n",
       " 'Time2_soln.py',\n",
       " 'typewriter.py',\n",
       " 'unstable_sort.py',\n",
       " 'walk.py',\n",
       " 'wordlist.py',\n",
       " 'words.txt',\n",
       " 'zipf.py']"
      ]
     },
     "execution_count": 11,
     "metadata": {},
     "output_type": "execute_result"
    }
   ],
   "source": [
    "os.listdir()"
   ]
  },
  {
   "cell_type": "code",
   "execution_count": 16,
   "metadata": {},
   "outputs": [],
   "source": [
    "def walk(dirname):\n",
    "    for name in os.listdir(dirname):\n",
    "        a = os.path.join(dirname,name)\n",
    "        # pay attention to the indentation needed!\n",
    "        if os.path.isdir(a):\n",
    "            walk(a)\n",
    "        else:\n",
    "            print(a)"
   ]
  },
  {
   "cell_type": "code",
   "execution_count": 18,
   "metadata": {},
   "outputs": [
    {
     "name": "stdout",
     "output_type": "stream",
     "text": [
      "C:\\Users\\zheng\\Documents\\python\\ThinkPython2\\.git\\config\n",
      "C:\\Users\\zheng\\Documents\\python\\ThinkPython2\\.git\\description\n",
      "C:\\Users\\zheng\\Documents\\python\\ThinkPython2\\.git\\FETCH_HEAD\n",
      "C:\\Users\\zheng\\Documents\\python\\ThinkPython2\\.git\\HEAD\n",
      "C:\\Users\\zheng\\Documents\\python\\ThinkPython2\\.git\\hooks\\README.sample\n",
      "C:\\Users\\zheng\\Documents\\python\\ThinkPython2\\.git\\index\n",
      "C:\\Users\\zheng\\Documents\\python\\ThinkPython2\\.git\\info\\exclude\n",
      "C:\\Users\\zheng\\Documents\\python\\ThinkPython2\\.git\\logs\\HEAD\n",
      "C:\\Users\\zheng\\Documents\\python\\ThinkPython2\\.git\\logs\\refs\\heads\\master\n",
      "C:\\Users\\zheng\\Documents\\python\\ThinkPython2\\.git\\logs\\refs\\remotes\\origin\\add-license-1\n",
      "C:\\Users\\zheng\\Documents\\python\\ThinkPython2\\.git\\logs\\refs\\remotes\\origin\\master\n",
      "C:\\Users\\zheng\\Documents\\python\\ThinkPython2\\.git\\objects\\09\\3610598ce6e1b537a1de8871366c7682605359\n",
      "C:\\Users\\zheng\\Documents\\python\\ThinkPython2\\.git\\objects\\60\\dd5aaa4b24ab35ff9b0a29255e62d7a9b835d9\n",
      "C:\\Users\\zheng\\Documents\\python\\ThinkPython2\\.git\\objects\\71\\9c9231144e0d06d16d75b9ba202687938f1e0e\n",
      "C:\\Users\\zheng\\Documents\\python\\ThinkPython2\\.git\\objects\\98\\86944b9fc2c7045578d333770ac35a54f38f70\n",
      "C:\\Users\\zheng\\Documents\\python\\ThinkPython2\\.git\\objects\\pack\\pack-07d17babc0231a6043a91c9070f5532032cd2d36.idx\n",
      "C:\\Users\\zheng\\Documents\\python\\ThinkPython2\\.git\\objects\\pack\\pack-07d17babc0231a6043a91c9070f5532032cd2d36.pack\n",
      "C:\\Users\\zheng\\Documents\\python\\ThinkPython2\\.git\\refs\\heads\\master\n",
      "C:\\Users\\zheng\\Documents\\python\\ThinkPython2\\.git\\refs\\remotes\\origin\\add-license-1\n",
      "C:\\Users\\zheng\\Documents\\python\\ThinkPython2\\.git\\refs\\remotes\\origin\\master\n",
      "C:\\Users\\zheng\\Documents\\python\\ThinkPython2\\.gitignore\n",
      "C:\\Users\\zheng\\Documents\\python\\ThinkPython2\\book\\back.png\n",
      "C:\\Users\\zheng\\Documents\\python\\ThinkPython2\\book\\book.tex\n",
      "C:\\Users\\zheng\\Documents\\python\\ThinkPython2\\book\\figs\\assign2.eps\n",
      "C:\\Users\\zheng\\Documents\\python\\ThinkPython2\\book\\figs\\assign2.fig\n",
      "C:\\Users\\zheng\\Documents\\python\\ThinkPython2\\book\\figs\\assign2.fig.bak\n",
      "C:\\Users\\zheng\\Documents\\python\\ThinkPython2\\book\\figs\\assign2.pdf\n",
      "C:\\Users\\zheng\\Documents\\python\\ThinkPython2\\book\\figs\\banana.eps\n",
      "C:\\Users\\zheng\\Documents\\python\\ThinkPython2\\book\\figs\\banana.fig\n",
      "C:\\Users\\zheng\\Documents\\python\\ThinkPython2\\book\\figs\\banana.pdf\n",
      "C:\\Users\\zheng\\Documents\\python\\ThinkPython2\\book\\figs\\card1.eps\n",
      "C:\\Users\\zheng\\Documents\\python\\ThinkPython2\\book\\figs\\card1.fig\n",
      "C:\\Users\\zheng\\Documents\\python\\ThinkPython2\\book\\figs\\card1.pdf\n",
      "C:\\Users\\zheng\\Documents\\python\\ThinkPython2\\book\\figs\\class1.eps\n",
      "C:\\Users\\zheng\\Documents\\python\\ThinkPython2\\book\\figs\\class1.fig\n",
      "C:\\Users\\zheng\\Documents\\python\\ThinkPython2\\book\\figs\\class1.pdf\n",
      "C:\\Users\\zheng\\Documents\\python\\ThinkPython2\\book\\figs\\compile.eps\n",
      "C:\\Users\\zheng\\Documents\\python\\ThinkPython2\\book\\figs\\compile.fig\n",
      "C:\\Users\\zheng\\Documents\\python\\ThinkPython2\\book\\figs\\compile.pdf\n",
      "C:\\Users\\zheng\\Documents\\python\\ThinkPython2\\book\\figs\\dict1.eps\n",
      "C:\\Users\\zheng\\Documents\\python\\ThinkPython2\\book\\figs\\dict1.fig\n",
      "C:\\Users\\zheng\\Documents\\python\\ThinkPython2\\book\\figs\\dict1.pdf\n",
      "C:\\Users\\zheng\\Documents\\python\\ThinkPython2\\book\\figs\\dict2.eps\n",
      "C:\\Users\\zheng\\Documents\\python\\ThinkPython2\\book\\figs\\dict2.fig\n",
      "C:\\Users\\zheng\\Documents\\python\\ThinkPython2\\book\\figs\\dict2.pdf\n",
      "C:\\Users\\zheng\\Documents\\python\\ThinkPython2\\book\\figs\\fibonacci.eps\n",
      "C:\\Users\\zheng\\Documents\\python\\ThinkPython2\\book\\figs\\fibonacci.fig\n",
      "C:\\Users\\zheng\\Documents\\python\\ThinkPython2\\book\\figs\\fibonacci.pdf\n",
      "C:\\Users\\zheng\\Documents\\python\\ThinkPython2\\book\\figs\\flower.test.pdf\n",
      "C:\\Users\\zheng\\Documents\\python\\ThinkPython2\\book\\figs\\flowers.eps\n",
      "C:\\Users\\zheng\\Documents\\python\\ThinkPython2\\book\\figs\\flowers.pdf\n",
      "C:\\Users\\zheng\\Documents\\python\\ThinkPython2\\book\\figs\\interpret.eps\n",
      "C:\\Users\\zheng\\Documents\\python\\ThinkPython2\\book\\figs\\interpret.fig\n",
      "C:\\Users\\zheng\\Documents\\python\\ThinkPython2\\book\\figs\\interpret.pdf\n",
      "C:\\Users\\zheng\\Documents\\python\\ThinkPython2\\book\\figs\\koch.eps\n",
      "C:\\Users\\zheng\\Documents\\python\\ThinkPython2\\book\\figs\\koch.pdf\n",
      "C:\\Users\\zheng\\Documents\\python\\ThinkPython2\\book\\figs\\list1.eps\n",
      "C:\\Users\\zheng\\Documents\\python\\ThinkPython2\\book\\figs\\list1.fig\n",
      "C:\\Users\\zheng\\Documents\\python\\ThinkPython2\\book\\figs\\list1.pdf\n",
      "C:\\Users\\zheng\\Documents\\python\\ThinkPython2\\book\\figs\\list2.eps\n",
      "C:\\Users\\zheng\\Documents\\python\\ThinkPython2\\book\\figs\\list2.fig\n",
      "C:\\Users\\zheng\\Documents\\python\\ThinkPython2\\book\\figs\\list2.pdf\n",
      "C:\\Users\\zheng\\Documents\\python\\ThinkPython2\\book\\figs\\list3.eps\n",
      "C:\\Users\\zheng\\Documents\\python\\ThinkPython2\\book\\figs\\list3.fig\n",
      "C:\\Users\\zheng\\Documents\\python\\ThinkPython2\\book\\figs\\list3.pdf\n",
      "C:\\Users\\zheng\\Documents\\python\\ThinkPython2\\book\\figs\\liststate.eps\n",
      "C:\\Users\\zheng\\Documents\\python\\ThinkPython2\\book\\figs\\liststate.fig\n",
      "C:\\Users\\zheng\\Documents\\python\\ThinkPython2\\book\\figs\\liststate.fig.bak\n",
      "C:\\Users\\zheng\\Documents\\python\\ThinkPython2\\book\\figs\\liststate.pdf\n",
      "C:\\Users\\zheng\\Documents\\python\\ThinkPython2\\book\\figs\\listsum1.eps\n",
      "C:\\Users\\zheng\\Documents\\python\\ThinkPython2\\book\\figs\\listsum1.pdf\n",
      "C:\\Users\\zheng\\Documents\\python\\ThinkPython2\\book\\figs\\listsum2.eps\n",
      "C:\\Users\\zheng\\Documents\\python\\ThinkPython2\\book\\figs\\listsum2.pdf\n",
      "C:\\Users\\zheng\\Documents\\python\\ThinkPython2\\book\\figs\\loop.py\n",
      "C:\\Users\\zheng\\Documents\\python\\ThinkPython2\\book\\figs\\loop.py~\n",
      "C:\\Users\\zheng\\Documents\\python\\ThinkPython2\\book\\figs\\pies.eps\n",
      "C:\\Users\\zheng\\Documents\\python\\ThinkPython2\\book\\figs\\pies.pdf\n",
      "C:\\Users\\zheng\\Documents\\python\\ThinkPython2\\book\\figs\\point.eps\n",
      "C:\\Users\\zheng\\Documents\\python\\ThinkPython2\\book\\figs\\point.fig\n",
      "C:\\Users\\zheng\\Documents\\python\\ThinkPython2\\book\\figs\\point.pdf\n",
      "C:\\Users\\zheng\\Documents\\python\\ThinkPython2\\book\\figs\\rectangle.eps\n",
      "C:\\Users\\zheng\\Documents\\python\\ThinkPython2\\book\\figs\\rectangle.fig\n",
      "C:\\Users\\zheng\\Documents\\python\\ThinkPython2\\book\\figs\\rectangle.pdf\n",
      "C:\\Users\\zheng\\Documents\\python\\ThinkPython2\\book\\figs\\rectangle2.eps\n",
      "C:\\Users\\zheng\\Documents\\python\\ThinkPython2\\book\\figs\\rectangle2.fig\n",
      "C:\\Users\\zheng\\Documents\\python\\ThinkPython2\\book\\figs\\rectangle2.pdf\n",
      "C:\\Users\\zheng\\Documents\\python\\ThinkPython2\\book\\figs\\stack.eps\n",
      "C:\\Users\\zheng\\Documents\\python\\ThinkPython2\\book\\figs\\stack.fig\n",
      "C:\\Users\\zheng\\Documents\\python\\ThinkPython2\\book\\figs\\stack.pdf\n",
      "C:\\Users\\zheng\\Documents\\python\\ThinkPython2\\book\\figs\\stack2.eps\n",
      "C:\\Users\\zheng\\Documents\\python\\ThinkPython2\\book\\figs\\stack2.fig\n",
      "C:\\Users\\zheng\\Documents\\python\\ThinkPython2\\book\\figs\\stack2.pdf\n",
      "C:\\Users\\zheng\\Documents\\python\\ThinkPython2\\book\\figs\\stack3.eps\n",
      "C:\\Users\\zheng\\Documents\\python\\ThinkPython2\\book\\figs\\stack3.fig\n",
      "C:\\Users\\zheng\\Documents\\python\\ThinkPython2\\book\\figs\\stack3.pdf\n",
      "C:\\Users\\zheng\\Documents\\python\\ThinkPython2\\book\\figs\\stack4.eps\n",
      "C:\\Users\\zheng\\Documents\\python\\ThinkPython2\\book\\figs\\stack4.fig\n",
      "C:\\Users\\zheng\\Documents\\python\\ThinkPython2\\book\\figs\\stack4.pdf\n",
      "C:\\Users\\zheng\\Documents\\python\\ThinkPython2\\book\\figs\\stack5.eps\n",
      "C:\\Users\\zheng\\Documents\\python\\ThinkPython2\\book\\figs\\stack5.fig\n",
      "C:\\Users\\zheng\\Documents\\python\\ThinkPython2\\book\\figs\\stack5.pdf\n",
      "C:\\Users\\zheng\\Documents\\python\\ThinkPython2\\book\\figs\\state.eps\n",
      "C:\\Users\\zheng\\Documents\\python\\ThinkPython2\\book\\figs\\state.fig\n",
      "C:\\Users\\zheng\\Documents\\python\\ThinkPython2\\book\\figs\\state.pdf\n",
      "C:\\Users\\zheng\\Documents\\python\\ThinkPython2\\book\\figs\\state2.eps\n",
      "C:\\Users\\zheng\\Documents\\python\\ThinkPython2\\book\\figs\\state2.fig\n",
      "C:\\Users\\zheng\\Documents\\python\\ThinkPython2\\book\\figs\\state2.pdf\n",
      "C:\\Users\\zheng\\Documents\\python\\ThinkPython2\\book\\figs\\state3.eps\n",
      "C:\\Users\\zheng\\Documents\\python\\ThinkPython2\\book\\figs\\state3.fig\n",
      "C:\\Users\\zheng\\Documents\\python\\ThinkPython2\\book\\figs\\state3.pdf\n",
      "C:\\Users\\zheng\\Documents\\python\\ThinkPython2\\book\\figs\\state4.eps\n",
      "C:\\Users\\zheng\\Documents\\python\\ThinkPython2\\book\\figs\\state4.fig\n",
      "C:\\Users\\zheng\\Documents\\python\\ThinkPython2\\book\\figs\\state4.pdf\n",
      "C:\\Users\\zheng\\Documents\\python\\ThinkPython2\\book\\figs\\state5.eps\n",
      "C:\\Users\\zheng\\Documents\\python\\ThinkPython2\\book\\figs\\state5.fig\n",
      "C:\\Users\\zheng\\Documents\\python\\ThinkPython2\\book\\figs\\state5.pdf\n",
      "C:\\Users\\zheng\\Documents\\python\\ThinkPython2\\book\\figs\\time.eps\n",
      "C:\\Users\\zheng\\Documents\\python\\ThinkPython2\\book\\figs\\time.fig\n",
      "C:\\Users\\zheng\\Documents\\python\\ThinkPython2\\book\\figs\\time.pdf\n",
      "C:\\Users\\zheng\\Documents\\python\\ThinkPython2\\book\\figs\\towers.eps\n",
      "C:\\Users\\zheng\\Documents\\python\\ThinkPython2\\book\\figs\\towers.fig\n",
      "C:\\Users\\zheng\\Documents\\python\\ThinkPython2\\book\\figs\\towers.pdf\n",
      "C:\\Users\\zheng\\Documents\\python\\ThinkPython2\\book\\figs\\tuple1.eps\n",
      "C:\\Users\\zheng\\Documents\\python\\ThinkPython2\\book\\figs\\tuple1.fig\n",
      "C:\\Users\\zheng\\Documents\\python\\ThinkPython2\\book\\figs\\tuple1.pdf\n",
      "C:\\Users\\zheng\\Documents\\python\\ThinkPython2\\book\\footer.html\n",
      "C:\\Users\\zheng\\Documents\\python\\ThinkPython2\\book\\header.html\n",
      "C:\\Users\\zheng\\Documents\\python\\ThinkPython2\\book\\hevea.sty\n",
      "C:\\Users\\zheng\\Documents\\python\\ThinkPython2\\book\\htmlonly\n",
      "C:\\Users\\zheng\\Documents\\python\\ThinkPython2\\book\\latexonly\n",
      "C:\\Users\\zheng\\Documents\\python\\ThinkPython2\\book\\localdef.py\n",
      "C:\\Users\\zheng\\Documents\\python\\ThinkPython2\\book\\Makefile\n",
      "C:\\Users\\zheng\\Documents\\python\\ThinkPython2\\book\\next.png\n",
      "C:\\Users\\zheng\\Documents\\python\\ThinkPython2\\book\\up.png\n",
      "C:\\Users\\zheng\\Documents\\python\\ThinkPython2\\code\\.ipynb_checkpoints\\ch11 dictionary-checkpoint.ipynb\n",
      "C:\\Users\\zheng\\Documents\\python\\ThinkPython2\\code\\.ipynb_checkpoints\\ch14 files-checkpoint.ipynb\n",
      "C:\\Users\\zheng\\Documents\\python\\ThinkPython2\\code\\158-0.txt\n",
      "C:\\Users\\zheng\\Documents\\python\\ThinkPython2\\code\\ackermann.py\n",
      "C:\\Users\\zheng\\Documents\\python\\ThinkPython2\\code\\ackermann_memo.py\n",
      "C:\\Users\\zheng\\Documents\\python\\ThinkPython2\\code\\anagram_db.py\n",
      "C:\\Users\\zheng\\Documents\\python\\ThinkPython2\\code\\anagram_sets.py\n",
      "C:\\Users\\zheng\\Documents\\python\\ThinkPython2\\code\\analyze_book1.py\n",
      "C:\\Users\\zheng\\Documents\\python\\ThinkPython2\\code\\analyze_book2.py\n",
      "C:\\Users\\zheng\\Documents\\python\\ThinkPython2\\code\\analyze_book3.py\n",
      "C:\\Users\\zheng\\Documents\\python\\ThinkPython2\\code\\BadKangaroo.py\n",
      "C:\\Users\\zheng\\Documents\\python\\ThinkPython2\\code\\birthday.py\n",
      "C:\\Users\\zheng\\Documents\\python\\ThinkPython2\\code\\c06d\n",
      "C:\\Users\\zheng\\Documents\\python\\ThinkPython2\\code\\Card.py\n",
      "C:\\Users\\zheng\\Documents\\python\\ThinkPython2\\code\\Card_test.py\n",
      "C:\\Users\\zheng\\Documents\\python\\ThinkPython2\\code\\cartalk1.py\n",
      "C:\\Users\\zheng\\Documents\\python\\ThinkPython2\\code\\cartalk2.py\n",
      "C:\\Users\\zheng\\Documents\\python\\ThinkPython2\\code\\cartalk3.py\n",
      "C:\\Users\\zheng\\Documents\\python\\ThinkPython2\\code\\ch11 dictionary.ipynb\n",
      "C:\\Users\\zheng\\Documents\\python\\ThinkPython2\\code\\ch14 files.ipynb\n",
      "C:\\Users\\zheng\\Documents\\python\\ThinkPython2\\code\\Circle.py\n",
      "C:\\Users\\zheng\\Documents\\python\\ThinkPython2\\code\\double.py\n",
      "C:\\Users\\zheng\\Documents\\python\\ThinkPython2\\code\\do_four.py\n",
      "C:\\Users\\zheng\\Documents\\python\\ThinkPython2\\code\\draw.py\n",
      "C:\\Users\\zheng\\Documents\\python\\ThinkPython2\\code\\find_duplicates.py\n",
      "C:\\Users\\zheng\\Documents\\python\\ThinkPython2\\code\\find_duplicates_copy.py\n",
      "C:\\Users\\zheng\\Documents\\python\\ThinkPython2\\code\\flower.py\n",
      "C:\\Users\\zheng\\Documents\\python\\ThinkPython2\\code\\GoodKangaroo.py\n",
      "C:\\Users\\zheng\\Documents\\python\\ThinkPython2\\code\\grid.py\n",
      "C:\\Users\\zheng\\Documents\\python\\ThinkPython2\\code\\has_duplicates.py\n",
      "C:\\Users\\zheng\\Documents\\python\\ThinkPython2\\code\\homophone.py\n",
      "C:\\Users\\zheng\\Documents\\python\\ThinkPython2\\code\\inlist.py\n",
      "C:\\Users\\zheng\\Documents\\python\\ThinkPython2\\code\\interlock.py\n",
      "C:\\Users\\zheng\\Documents\\python\\ThinkPython2\\code\\invert_dict.py\n",
      "C:\\Users\\zheng\\Documents\\python\\ThinkPython2\\code\\koch.py\n",
      "C:\\Users\\zheng\\Documents\\python\\ThinkPython2\\code\\letters.py\n",
      "C:\\Users\\zheng\\Documents\\python\\ThinkPython2\\code\\list_exercises.py\n",
      "C:\\Users\\zheng\\Documents\\python\\ThinkPython2\\code\\Map.py\n",
      "C:\\Users\\zheng\\Documents\\python\\ThinkPython2\\code\\markov.py\n",
      "C:\\Users\\zheng\\Documents\\python\\ThinkPython2\\code\\markov2.py\n",
      "C:\\Users\\zheng\\Documents\\python\\ThinkPython2\\code\\metathesis.py\n",
      "C:\\Users\\zheng\\Documents\\python\\ThinkPython2\\code\\most_frequent.py\n",
      "C:\\Users\\zheng\\Documents\\python\\ThinkPython2\\code\\pace_calc.py\n",
      "C:\\Users\\zheng\\Documents\\python\\ThinkPython2\\code\\palindrome_soln.py\n",
      "C:\\Users\\zheng\\Documents\\python\\ThinkPython2\\code\\pi.py\n",
      "C:\\Users\\zheng\\Documents\\python\\ThinkPython2\\code\\pie.py\n",
      "C:\\Users\\zheng\\Documents\\python\\ThinkPython2\\code\\Point1.py\n",
      "C:\\Users\\zheng\\Documents\\python\\ThinkPython2\\code\\Point1_soln.py\n",
      "C:\\Users\\zheng\\Documents\\python\\ThinkPython2\\code\\Point2_soln.py\n",
      "C:\\Users\\zheng\\Documents\\python\\ThinkPython2\\code\\PokerHand.py\n",
      "C:\\Users\\zheng\\Documents\\python\\ThinkPython2\\code\\PokerHandSoln.py\n",
      "C:\\Users\\zheng\\Documents\\python\\ThinkPython2\\code\\polygon.py\n",
      "C:\\Users\\zheng\\Documents\\python\\ThinkPython2\\code\\pronounce.py\n",
      "C:\\Users\\zheng\\Documents\\python\\ThinkPython2\\code\\reducible.py\n",
      "C:\\Users\\zheng\\Documents\\python\\ThinkPython2\\code\\reverse_pair.py\n",
      "C:\\Users\\zheng\\Documents\\python\\ThinkPython2\\code\\rotate.py\n",
      "C:\\Users\\zheng\\Documents\\python\\ThinkPython2\\code\\rotate_pairs.py\n",
      "C:\\Users\\zheng\\Documents\\python\\ThinkPython2\\code\\run_all_solutions.py\n",
      "C:\\Users\\zheng\\Documents\\python\\ThinkPython2\\code\\sed.py\n",
      "C:\\Users\\zheng\\Documents\\python\\ThinkPython2\\code\\see NY.text\n"
     ]
    },
    {
     "name": "stdout",
     "output_type": "stream",
     "text": [
      "C:\\Users\\zheng\\Documents\\python\\ThinkPython2\\code\\spiral.py\n",
      "C:\\Users\\zheng\\Documents\\python\\ThinkPython2\\code\\structshape.py\n",
      "C:\\Users\\zheng\\Documents\\python\\ThinkPython2\\code\\Time1.py\n",
      "C:\\Users\\zheng\\Documents\\python\\ThinkPython2\\code\\Time1_soln.py\n",
      "C:\\Users\\zheng\\Documents\\python\\ThinkPython2\\code\\Time2.py\n",
      "C:\\Users\\zheng\\Documents\\python\\ThinkPython2\\code\\Time2_soln.py\n",
      "C:\\Users\\zheng\\Documents\\python\\ThinkPython2\\code\\typewriter.py\n",
      "C:\\Users\\zheng\\Documents\\python\\ThinkPython2\\code\\unstable_sort.py\n",
      "C:\\Users\\zheng\\Documents\\python\\ThinkPython2\\code\\walk.py\n",
      "C:\\Users\\zheng\\Documents\\python\\ThinkPython2\\code\\wordlist.py\n",
      "C:\\Users\\zheng\\Documents\\python\\ThinkPython2\\code\\words.txt\n",
      "C:\\Users\\zheng\\Documents\\python\\ThinkPython2\\code\\zipf.py\n",
      "C:\\Users\\zheng\\Documents\\python\\ThinkPython2\\LICENSE\n",
      "C:\\Users\\zheng\\Documents\\python\\ThinkPython2\\python_thinking\\Frame.py\n",
      "C:\\Users\\zheng\\Documents\\python\\ThinkPython2\\README.md\n"
     ]
    }
   ],
   "source": [
    "b = walk('C:\\\\Users\\\\zheng\\\\Documents\\\\python\\\\ThinkPython2')"
   ]
  },
  {
   "cell_type": "code",
   "execution_count": 24,
   "metadata": {},
   "outputs": [
    {
     "name": "stdout",
     "output_type": "stream",
     "text": [
      "['158-0.txt', 'ackermann.py', 'ackermann_memo.py', 'anagram_db.py', 'anagram_sets.py', 'analyze_book1.py', 'analyze_book2.py', 'analyze_book3.py', 'BadKangaroo.py', 'birthday.py', 'c06d', 'Card.py', 'Card_test.py', 'cartalk1.py', 'cartalk2.py', 'cartalk3.py', 'ch11 dictionary.ipynb', 'ch14 files.ipynb', 'Circle.py', 'double.py', 'do_four.py', 'draw.py', 'find_duplicates.py', 'find_duplicates_copy.py', 'flower.py', 'GoodKangaroo.py', 'grid.py', 'has_duplicates.py', 'homophone.py', 'inlist.py', 'interlock.py', 'invert_dict.py', 'koch.py', 'letters.py', 'list_exercises.py', 'Map.py', 'markov.py', 'markov2.py', 'metathesis.py', 'most_frequent.py', 'pace_calc.py', 'palindrome_soln.py', 'pi.py', 'pie.py', 'Point1.py', 'Point1_soln.py', 'Point2_soln.py', 'PokerHand.py', 'PokerHandSoln.py', 'polygon.py', 'pronounce.py', 'reducible.py', 'reverse_pair.py', 'rotate.py', 'rotate_pairs.py', 'run_all_solutions.py', 'sed.py', 'see NY.text', 'spiral.py', 'structshape.py', 'Time1.py', 'Time1_soln.py', 'Time2.py', 'Time2_soln.py', 'typewriter.py', 'unstable_sort.py', 'walk.py', 'wordlist.py', 'words.txt', 'zipf.py']\n",
      "['ch11 dictionary-checkpoint.ipynb', 'ch14 files-checkpoint.ipynb']\n"
     ]
    }
   ],
   "source": [
    "for a,b,c in os.walk(os.getcwd(),topdown=True):\n",
    "#     print(a)\n",
    "#     print(b)\n",
    "    print(c)"
   ]
  },
  {
   "cell_type": "code",
   "execution_count": 25,
   "metadata": {},
   "outputs": [],
   "source": [
    "import dbm"
   ]
  },
  {
   "cell_type": "code",
   "execution_count": 26,
   "metadata": {},
   "outputs": [],
   "source": [
    "db = dbm.open('captions', 'c')"
   ]
  },
  {
   "cell_type": "code",
   "execution_count": 28,
   "metadata": {},
   "outputs": [],
   "source": [
    "db['bikinipants.png'] = 'A photo of bikinipants'"
   ]
  },
  {
   "cell_type": "code",
   "execution_count": 30,
   "metadata": {},
   "outputs": [
    {
     "data": {
      "text/plain": [
       "b'A photo of bikinipants'"
      ]
     },
     "execution_count": 30,
     "metadata": {},
     "output_type": "execute_result"
    }
   ],
   "source": [
    "db['bikinipants.png']"
   ]
  },
  {
   "cell_type": "code",
   "execution_count": 32,
   "metadata": {},
   "outputs": [],
   "source": [
    "db['bikinipants.png'] = 'bikinipants swimming'"
   ]
  },
  {
   "cell_type": "code",
   "execution_count": 33,
   "metadata": {},
   "outputs": [
    {
     "data": {
      "text/plain": [
       "b'bikinipants swimming'"
      ]
     },
     "execution_count": 33,
     "metadata": {},
     "output_type": "execute_result"
    }
   ],
   "source": [
    "db['bikinipants.png']"
   ]
  },
  {
   "cell_type": "code",
   "execution_count": 34,
   "metadata": {},
   "outputs": [
    {
     "name": "stdout",
     "output_type": "stream",
     "text": [
      "b'bikinipants.png' b'bikinipants swimming'\n"
     ]
    }
   ],
   "source": [
    "for key in db:\n",
    "    print(key, db[key])"
   ]
  },
  {
   "cell_type": "code",
   "execution_count": 35,
   "metadata": {},
   "outputs": [],
   "source": [
    "db.close() \n",
    "# three files created, .DAT .DIR & .BAK\n",
    "#.bak a backup copy of a file"
   ]
  },
  {
   "cell_type": "code",
   "execution_count": 36,
   "metadata": {},
   "outputs": [],
   "source": [
    "import pickle"
   ]
  },
  {
   "cell_type": "code",
   "execution_count": 37,
   "metadata": {},
   "outputs": [
    {
     "name": "stdout",
     "output_type": "stream",
     "text": [
      "b'\\x80\\x03]q\\x00(K\\x01K\\x02K\\x03e.'\n"
     ]
    }
   ],
   "source": [
    "l1 = [1,2,3]\n",
    "s1 = pickle.dumps(l1)\n",
    "print(s1)"
   ]
  },
  {
   "cell_type": "code",
   "execution_count": 38,
   "metadata": {},
   "outputs": [
    {
     "name": "stdout",
     "output_type": "stream",
     "text": [
      "[1, 2, 3]\n"
     ]
    }
   ],
   "source": [
    "l2 = pickle.loads(s1)\n",
    "print(l2)"
   ]
  },
  {
   "cell_type": "code",
   "execution_count": 39,
   "metadata": {},
   "outputs": [
    {
     "data": {
      "text/plain": [
       "True"
      ]
     },
     "execution_count": 39,
     "metadata": {},
     "output_type": "execute_result"
    }
   ],
   "source": [
    "l1 == l2"
   ]
  },
  {
   "cell_type": "code",
   "execution_count": 40,
   "metadata": {},
   "outputs": [
    {
     "data": {
      "text/plain": [
       "False"
      ]
     },
     "execution_count": 40,
     "metadata": {},
     "output_type": "execute_result"
    }
   ],
   "source": [
    "l2 is l1"
   ]
  },
  {
   "cell_type": "code",
   "execution_count": 5,
   "metadata": {},
   "outputs": [],
   "source": [
    "import wc"
   ]
  },
  {
   "cell_type": "code",
   "execution_count": 8,
   "metadata": {},
   "outputs": [
    {
     "name": "stdout",
     "output_type": "stream",
     "text": [
      "156\n",
      "wc\n"
     ]
    }
   ],
   "source": [
    "print(wc.line_count('C:\\\\Users\\\\zheng\\\\Documents\\\\python\\\\ThinkPython2\\\\code\\\\ch11 dictionary.ipynb'))\n",
    "print(wc.__name__)"
   ]
  }
 ],
 "metadata": {
  "kernelspec": {
   "display_name": "Python 3",
   "language": "python",
   "name": "python3"
  },
  "language_info": {
   "codemirror_mode": {
    "name": "ipython",
    "version": 3
   },
   "file_extension": ".py",
   "mimetype": "text/x-python",
   "name": "python",
   "nbconvert_exporter": "python",
   "pygments_lexer": "ipython3",
   "version": "3.7.1"
  }
 },
 "nbformat": 4,
 "nbformat_minor": 2
}
