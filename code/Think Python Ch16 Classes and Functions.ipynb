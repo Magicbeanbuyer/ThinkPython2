{
 "cells": [
  {
   "cell_type": "markdown",
   "metadata": {},
   "source": [
    "write functions that take\n",
    "programmer-defined objects as parameters and return them as results."
   ]
  },
  {
   "cell_type": "code",
   "execution_count": 16,
   "metadata": {},
   "outputs": [],
   "source": [
    "class Time:\n",
    "    \"\"\" A class represents time\n",
    "        Atributes: hour, minute, second\n",
    "    \"\"\"\n",
    "    \n",
    "def print_time(t):\n",
    "    print('%.2d:%.2d:%.2d' % (t.hour, t.minute, t.second))\n",
    "    \n",
    "    \n",
    "def is_after(t1, t2):\n",
    "#     print_time(t1, t2)\n",
    "    return (t1.hour, t1.minute, t1.second) > (t2.hour, t2.minute, t2.second)\n",
    "\n",
    "def add_time(t1,t2):\n",
    "    \"\"\"A function to increase time t1 by duration t2.\"\"\"\n",
    "    if t1.second + t2.second < 60:\n",
    "        t1.second += t2.second\n",
    "        if t1.minute + t2.minute < 60:\n",
    "            t1.minute += t2.minute\n",
    "            if t1.hour + t2.hour < 24:\n",
    "                t1.hour += t2.hour\n",
    "            else:\n",
    "                t1.hour = t1.hour + t2.hour - 24\n",
    "        else:\n",
    "            t1.minute = t1.minute + t2.minute - 60\n",
    "            if t1.hour + t2.hour + 1 < 24:\n",
    "                t1.hour = t1.hour + t2.hour +1\n",
    "            else:\n",
    "                t1.hour = t1.hour + t2.hour - 23\n",
    "    else:\n",
    "        t1.second = t1.second + t2.second - 60\n",
    "        if t1.minute + t2.minute + 1 < 60:\n",
    "            t1.minute = t1.minute + t2.minute + 1\n",
    "            if t1.hour + t2.hour < 24:\n",
    "                t1.hour += t2.hour\n",
    "            else:\n",
    "                t1.hour = t1.hour + t2.hour - 24\n",
    "        else:\n",
    "            t1.minute = t1.minute + t2.minute -59\n",
    "            if t1.hour + t2.hour + 1 < 24:\n",
    "                t1.hour = t1.hour + t2.hour + 1\n",
    "            else: \n",
    "                t1.hour = t1.hour + t2.hour -23 \n",
    "    return t1\n",
    "                \n",
    "def add_time_two(t1, t2):\n",
    "    sum = Time()\n",
    "    sum.hour = t1.hour + t2.hour\n",
    "    sum.minute = t1.minute + t2.minute\n",
    "    sum.second = t1.second + t2.second\n",
    "\n",
    "    if sum.second >= 60:\n",
    "        sum.second -= 60\n",
    "        sum.minute += 1\n",
    "\n",
    "    if sum.minute >= 60:\n",
    "        sum.minute -= 60\n",
    "        sum.hour += 1\n",
    "        \n",
    "    if sum.hour > 24:\n",
    "        sum.hour = sum.hour%24\n",
    "\n",
    "    return sum"
   ]
  },
  {
   "cell_type": "code",
   "execution_count": 20,
   "metadata": {},
   "outputs": [
    {
     "name": "stdout",
     "output_type": "stream",
     "text": [
      "False\n",
      "05:10:10\n",
      "06:01:00\n"
     ]
    }
   ],
   "source": [
    "time1 = Time()\n",
    "time1.hour = 5\n",
    "time1.minute = 10\n",
    "time1.second = 10\n",
    "\n",
    "time2 = Time()\n",
    "time2.hour = 24\n",
    "time2.minute = 50\n",
    "time2.second = 50\n",
    "\n",
    "a = is_after(time1, time2)\n",
    "print(a)\n",
    "\n",
    "# print_time(time1)\n",
    "# b = add_time(time1, time2)\n",
    "# print_time(b)\n",
    "\n",
    "print_time(time1)\n",
    "c=add_time_two(time1,time2)\n",
    "print_time(c)"
   ]
  },
  {
   "cell_type": "code",
   "execution_count": null,
   "metadata": {},
   "outputs": [],
   "source": []
  }
 ],
 "metadata": {
  "kernelspec": {
   "display_name": "Python 3",
   "language": "python",
   "name": "python3"
  },
  "language_info": {
   "codemirror_mode": {
    "name": "ipython",
    "version": 3
   },
   "file_extension": ".py",
   "mimetype": "text/x-python",
   "name": "python",
   "nbconvert_exporter": "python",
   "pygments_lexer": "ipython3",
   "version": "3.7.1"
  }
 },
 "nbformat": 4,
 "nbformat_minor": 2
}
